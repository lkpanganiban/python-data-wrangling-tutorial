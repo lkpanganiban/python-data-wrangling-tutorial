{
 "cells": [
  {
   "attachments": {},
   "cell_type": "markdown",
   "id": "fb112202",
   "metadata": {},
   "source": [
    "# Web Scraping\n",
    "\n",
    "**Welcome to the Web Scraping Notebook!**\n",
    "\n",
    "The notebook showcases the power of Python to scrape data from the internet. We will use the library `beautifulsoup4` to do the following session and exercises.\n",
    "\n",
    "**Note: This is not a definitive guide.**\n",
    "\n",
    "## What is Web Scraping?\n",
    "\n",
    " \n"
   ]
  }
 ],
 "metadata": {
  "kernelspec": {
   "display_name": "Python 3 (ipykernel)",
   "language": "python",
   "name": "python3"
  },
  "language_info": {
   "codemirror_mode": {
    "name": "ipython",
    "version": 3
   },
   "file_extension": ".py",
   "mimetype": "text/x-python",
   "name": "python",
   "nbconvert_exporter": "python",
   "pygments_lexer": "ipython3",
   "version": "3.11.4"
  }
 },
 "nbformat": 4,
 "nbformat_minor": 5
}
