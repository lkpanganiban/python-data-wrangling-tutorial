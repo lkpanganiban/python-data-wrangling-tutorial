{
 "cells": [
  {
   "attachments": {},
   "cell_type": "markdown",
   "id": "fb112202",
   "metadata": {},
   "source": [
    "# Data Wrangling\n",
    "\n",
    "**Welcome to the Data Wrangling Notebook!**\n",
    "\n",
    "The notebook showcases the power of Python to scrape data from the internet. We will use the libraries `pandas` and `matplotlib` to do the following session and exercises.\n",
    "\n",
    "**Note: This is not a definitive guide.**\n",
    "\n",
    "## What is Data Wrangling?\n",
    "Data wrangling is the process of cleaning, organizing, structuring, and enriching raw data to make it more accessible and useful for analysis and visualization purposes. It involves converting and plotting data from one \"raw\" form into another to make it ready for downstream analytics. Data wrangling is becoming increasingly necessary due to the rapid expansion of the amount of data and data sources available today. It involves removing errors and combining complex data sets to make them more accessible and easier to analyze. The wrangling process encompasses all the practices used to ensure that data is high quality and useful for analytics.\n",
    "\n",
    "### Domain Driven Data Wrangling\n",
    "Data wrangling is just one of the tools to work with data. Also equally important is to have your expertise driving your data wrangling and analysis. As they say, **the workflow or tool must not contradict with science of the domain.** When we deliver or create tools or workflows, these must be guided with the principles of the industry that the tool will be used on/with. \n",
    "\n",
    "## Prerequisites\n",
    "\n",
    "Before we start, you will need to have a basic knowledge of the following technologies\n",
    "\n",
    "- [Python](https://www.python.org/)\n",
    "\n",
    "## Primary Tool\n",
    "The primary libraries or tools that we will be using are `pandas` and `matplotlib`. These libraries allow us to work and visualize with structured data. There are also a number of data wrangling tools and libraries supported by Python.\n",
    "\n",
    "## Hands-on\n",
    "For this tutorial, we will be using the data that we have scraped from the **web scraping** session. We will be creating a **static map** using containing the data GRDP.    \n",
    "\n"
   ]
  },
  {
   "cell_type": "markdown",
   "id": "a514f09f",
   "metadata": {},
   "source": [
    "### Import Libraries\n",
    "We will import the `panas` and `matplotlib` libraries. "
   ]
  },
  {
   "cell_type": "code",
   "execution_count": 26,
   "id": "768825a6",
   "metadata": {},
   "outputs": [],
   "source": [
    "import pandas as pd\n",
    "import matplotlib.pyplot as plt\n",
    "import numpy as np\n",
    "%matplotlib inline"
   ]
  },
  {
   "cell_type": "markdown",
   "id": "8f59f0ec",
   "metadata": {},
   "source": [
    "### Reading Data\n",
    "Pandas has a `read_csv` function which allows us to read csv files. This automatically converts the data into a `Dataframe`."
   ]
  },
  {
   "cell_type": "code",
   "execution_count": 27,
   "id": "f2a0c5b2",
   "metadata": {},
   "outputs": [],
   "source": [
    "economics_data = pd.read_csv(\"data/wiki_economics.csv\")"
   ]
  },
  {
   "cell_type": "markdown",
   "id": "3825d3dd",
   "metadata": {},
   "source": [
    "### Dataframes a way to process data\n",
    "A dataframe is a 2-dimensional data structure which consists of rows and columns. *You can think for this as an excel spreadsheet.*"
   ]
  },
  {
   "cell_type": "code",
   "execution_count": 28,
   "id": "3af148d3",
   "metadata": {},
   "outputs": [
    {
     "data": {
      "text/html": [
       "<div>\n",
       "<style scoped>\n",
       "    .dataframe tbody tr th:only-of-type {\n",
       "        vertical-align: middle;\n",
       "    }\n",
       "\n",
       "    .dataframe tbody tr th {\n",
       "        vertical-align: top;\n",
       "    }\n",
       "\n",
       "    .dataframe thead th {\n",
       "        text-align: right;\n",
       "    }\n",
       "</style>\n",
       "<table border=\"1\" class=\"dataframe\">\n",
       "  <thead>\n",
       "    <tr style=\"text-align: right;\">\n",
       "      <th></th>\n",
       "      <th>Region</th>\n",
       "      <th>GRDP(PHP, thousands)</th>\n",
       "      <th>Agriculture(PHP, thousands)</th>\n",
       "      <th>Industry(PHP, thousands)</th>\n",
       "      <th>Services(PHP, thousands)</th>\n",
       "      <th>GRDP per capita(PHP)</th>\n",
       "    </tr>\n",
       "  </thead>\n",
       "  <tbody>\n",
       "    <tr>\n",
       "      <th>0</th>\n",
       "      <td>Metro Manila</td>\n",
       "      <td>6.309291e+09</td>\n",
       "      <td>442597.0</td>\n",
       "      <td>1.230125e+09</td>\n",
       "      <td>5.078723e+09</td>\n",
       "      <td>462779.0</td>\n",
       "    </tr>\n",
       "    <tr>\n",
       "      <th>1</th>\n",
       "      <td>Cordillera</td>\n",
       "      <td>3.220939e+08</td>\n",
       "      <td>27045337.0</td>\n",
       "      <td>7.799072e+07</td>\n",
       "      <td>2.170578e+08</td>\n",
       "      <td>179752.0</td>\n",
       "    </tr>\n",
       "    <tr>\n",
       "      <th>2</th>\n",
       "      <td>Ilocos Region</td>\n",
       "      <td>6.297720e+08</td>\n",
       "      <td>104471256.0</td>\n",
       "      <td>1.922183e+08</td>\n",
       "      <td>3.330825e+08</td>\n",
       "      <td>120512.0</td>\n",
       "    </tr>\n",
       "    <tr>\n",
       "      <th>3</th>\n",
       "      <td>Cagayan Valley</td>\n",
       "      <td>3.976255e+08</td>\n",
       "      <td>103563850.0</td>\n",
       "      <td>1.156142e+08</td>\n",
       "      <td>1.784475e+08</td>\n",
       "      <td>109851.0</td>\n",
       "    </tr>\n",
       "    <tr>\n",
       "      <th>4</th>\n",
       "      <td>Central Luzon</td>\n",
       "      <td>2.177047e+09</td>\n",
       "      <td>231995441.0</td>\n",
       "      <td>9.509694e+08</td>\n",
       "      <td>9.940820e+08</td>\n",
       "      <td>179840.0</td>\n",
       "    </tr>\n",
       "    <tr>\n",
       "      <th>5</th>\n",
       "      <td>Calabarzon</td>\n",
       "      <td>2.861725e+09</td>\n",
       "      <td>154312287.0</td>\n",
       "      <td>1.445359e+09</td>\n",
       "      <td>1.262054e+09</td>\n",
       "      <td>181781.0</td>\n",
       "    </tr>\n",
       "    <tr>\n",
       "      <th>6</th>\n",
       "      <td>Mimaropa</td>\n",
       "      <td>3.770143e+08</td>\n",
       "      <td>64116478.0</td>\n",
       "      <td>1.254275e+08</td>\n",
       "      <td>1.874703e+08</td>\n",
       "      <td>120240.0</td>\n",
       "    </tr>\n",
       "    <tr>\n",
       "      <th>7</th>\n",
       "      <td>Bicol Region</td>\n",
       "      <td>5.603149e+08</td>\n",
       "      <td>85820150.0</td>\n",
       "      <td>2.025295e+08</td>\n",
       "      <td>2.719653e+08</td>\n",
       "      <td>92288.0</td>\n",
       "    </tr>\n",
       "    <tr>\n",
       "      <th>8</th>\n",
       "      <td>Western Visayas</td>\n",
       "      <td>9.163791e+08</td>\n",
       "      <td>144256702.0</td>\n",
       "      <td>1.944799e+08</td>\n",
       "      <td>5.776424e+08</td>\n",
       "      <td>116946.0</td>\n",
       "    </tr>\n",
       "    <tr>\n",
       "      <th>9</th>\n",
       "      <td>Central Visayas</td>\n",
       "      <td>1.266701e+09</td>\n",
       "      <td>79478668.0</td>\n",
       "      <td>3.421957e+08</td>\n",
       "      <td>8.450267e+08</td>\n",
       "      <td>161289.0</td>\n",
       "    </tr>\n",
       "    <tr>\n",
       "      <th>10</th>\n",
       "      <td>Eastern Visayas</td>\n",
       "      <td>4.656946e+08</td>\n",
       "      <td>61219158.0</td>\n",
       "      <td>1.819148e+08</td>\n",
       "      <td>2.225606e+08</td>\n",
       "      <td>99492.0</td>\n",
       "    </tr>\n",
       "    <tr>\n",
       "      <th>11</th>\n",
       "      <td>Zamboanga Peninsula</td>\n",
       "      <td>3.972066e+08</td>\n",
       "      <td>74695151.0</td>\n",
       "      <td>1.104676e+08</td>\n",
       "      <td>2.120438e+08</td>\n",
       "      <td>105798.0</td>\n",
       "    </tr>\n",
       "    <tr>\n",
       "      <th>12</th>\n",
       "      <td>Northern Mindanao</td>\n",
       "      <td>8.822044e+08</td>\n",
       "      <td>182955342.0</td>\n",
       "      <td>2.085802e+08</td>\n",
       "      <td>4.906689e+08</td>\n",
       "      <td>177998.0</td>\n",
       "    </tr>\n",
       "    <tr>\n",
       "      <th>13</th>\n",
       "      <td>Davao Region</td>\n",
       "      <td>9.220950e+08</td>\n",
       "      <td>149438384.0</td>\n",
       "      <td>2.334524e+08</td>\n",
       "      <td>5.392042e+08</td>\n",
       "      <td>176983.0</td>\n",
       "    </tr>\n",
       "    <tr>\n",
       "      <th>14</th>\n",
       "      <td>Soccsksargen</td>\n",
       "      <td>4.704225e+08</td>\n",
       "      <td>130802115.0</td>\n",
       "      <td>1.033211e+08</td>\n",
       "      <td>2.362993e+08</td>\n",
       "      <td>108561.0</td>\n",
       "    </tr>\n",
       "    <tr>\n",
       "      <th>15</th>\n",
       "      <td>Caraga</td>\n",
       "      <td>3.063085e+08</td>\n",
       "      <td>39908783.0</td>\n",
       "      <td>1.094640e+08</td>\n",
       "      <td>1.569357e+08</td>\n",
       "      <td>112489.0</td>\n",
       "    </tr>\n",
       "    <tr>\n",
       "      <th>16</th>\n",
       "      <td>Bangsamoro</td>\n",
       "      <td>2.545236e+08</td>\n",
       "      <td>87689432.0</td>\n",
       "      <td>6.319110e+07</td>\n",
       "      <td>1.036431e+08</td>\n",
       "      <td>55151.0</td>\n",
       "    </tr>\n",
       "  </tbody>\n",
       "</table>\n",
       "</div>"
      ],
      "text/plain": [
       "                 Region  GRDP(PHP, thousands)  Agriculture(PHP, thousands)  \\\n",
       "0          Metro Manila          6.309291e+09                     442597.0   \n",
       "1            Cordillera          3.220939e+08                   27045337.0   \n",
       "2         Ilocos Region          6.297720e+08                  104471256.0   \n",
       "3        Cagayan Valley          3.976255e+08                  103563850.0   \n",
       "4         Central Luzon          2.177047e+09                  231995441.0   \n",
       "5            Calabarzon          2.861725e+09                  154312287.0   \n",
       "6              Mimaropa          3.770143e+08                   64116478.0   \n",
       "7          Bicol Region          5.603149e+08                   85820150.0   \n",
       "8       Western Visayas          9.163791e+08                  144256702.0   \n",
       "9       Central Visayas          1.266701e+09                   79478668.0   \n",
       "10      Eastern Visayas          4.656946e+08                   61219158.0   \n",
       "11  Zamboanga Peninsula          3.972066e+08                   74695151.0   \n",
       "12    Northern Mindanao          8.822044e+08                  182955342.0   \n",
       "13         Davao Region          9.220950e+08                  149438384.0   \n",
       "14         Soccsksargen          4.704225e+08                  130802115.0   \n",
       "15               Caraga          3.063085e+08                   39908783.0   \n",
       "16           Bangsamoro          2.545236e+08                   87689432.0   \n",
       "\n",
       "    Industry(PHP, thousands)  Services(PHP, thousands)  GRDP per capita(PHP)  \n",
       "0               1.230125e+09              5.078723e+09              462779.0  \n",
       "1               7.799072e+07              2.170578e+08              179752.0  \n",
       "2               1.922183e+08              3.330825e+08              120512.0  \n",
       "3               1.156142e+08              1.784475e+08              109851.0  \n",
       "4               9.509694e+08              9.940820e+08              179840.0  \n",
       "5               1.445359e+09              1.262054e+09              181781.0  \n",
       "6               1.254275e+08              1.874703e+08              120240.0  \n",
       "7               2.025295e+08              2.719653e+08               92288.0  \n",
       "8               1.944799e+08              5.776424e+08              116946.0  \n",
       "9               3.421957e+08              8.450267e+08              161289.0  \n",
       "10              1.819148e+08              2.225606e+08               99492.0  \n",
       "11              1.104676e+08              2.120438e+08              105798.0  \n",
       "12              2.085802e+08              4.906689e+08              177998.0  \n",
       "13              2.334524e+08              5.392042e+08              176983.0  \n",
       "14              1.033211e+08              2.362993e+08              108561.0  \n",
       "15              1.094640e+08              1.569357e+08              112489.0  \n",
       "16              6.319110e+07              1.036431e+08               55151.0  "
      ]
     },
     "execution_count": 28,
     "metadata": {},
     "output_type": "execute_result"
    }
   ],
   "source": [
    "economics_data"
   ]
  },
  {
   "cell_type": "markdown",
   "id": "be2a0055",
   "metadata": {},
   "source": [
    "#### Accessing Data in Dataframes\n",
    "\n",
    "To access a data in a dataframe, we can use the following methods:\n",
    "\n",
    "- `iloc` - think of iloc as the row integer location or id \n",
    "- `loc` - think of loc as the row label location\n",
    "- `df[\"<column-name>\"]` - restricting the access to one column"
   ]
  },
  {
   "cell_type": "code",
   "execution_count": 29,
   "id": "ac066975",
   "metadata": {},
   "outputs": [
    {
     "data": {
      "text/html": [
       "<div>\n",
       "<style scoped>\n",
       "    .dataframe tbody tr th:only-of-type {\n",
       "        vertical-align: middle;\n",
       "    }\n",
       "\n",
       "    .dataframe tbody tr th {\n",
       "        vertical-align: top;\n",
       "    }\n",
       "\n",
       "    .dataframe thead th {\n",
       "        text-align: right;\n",
       "    }\n",
       "</style>\n",
       "<table border=\"1\" class=\"dataframe\">\n",
       "  <thead>\n",
       "    <tr style=\"text-align: right;\">\n",
       "      <th></th>\n",
       "      <th>age</th>\n",
       "      <th>color</th>\n",
       "      <th>food</th>\n",
       "      <th>height</th>\n",
       "      <th>score</th>\n",
       "      <th>state</th>\n",
       "    </tr>\n",
       "  </thead>\n",
       "  <tbody>\n",
       "    <tr>\n",
       "      <th>Jane</th>\n",
       "      <td>30</td>\n",
       "      <td>blue</td>\n",
       "      <td>Steak</td>\n",
       "      <td>165</td>\n",
       "      <td>4.6</td>\n",
       "      <td>NY</td>\n",
       "    </tr>\n",
       "    <tr>\n",
       "      <th>Nick</th>\n",
       "      <td>2</td>\n",
       "      <td>green</td>\n",
       "      <td>Lamb</td>\n",
       "      <td>70</td>\n",
       "      <td>8.3</td>\n",
       "      <td>TX</td>\n",
       "    </tr>\n",
       "    <tr>\n",
       "      <th>Aaron</th>\n",
       "      <td>12</td>\n",
       "      <td>red</td>\n",
       "      <td>Mango</td>\n",
       "      <td>120</td>\n",
       "      <td>9.0</td>\n",
       "      <td>FL</td>\n",
       "    </tr>\n",
       "    <tr>\n",
       "      <th>Penelope</th>\n",
       "      <td>4</td>\n",
       "      <td>white</td>\n",
       "      <td>Apple</td>\n",
       "      <td>80</td>\n",
       "      <td>3.3</td>\n",
       "      <td>AL</td>\n",
       "    </tr>\n",
       "    <tr>\n",
       "      <th>Dean</th>\n",
       "      <td>32</td>\n",
       "      <td>gray</td>\n",
       "      <td>Cheese</td>\n",
       "      <td>180</td>\n",
       "      <td>1.8</td>\n",
       "      <td>AK</td>\n",
       "    </tr>\n",
       "    <tr>\n",
       "      <th>Christina</th>\n",
       "      <td>33</td>\n",
       "      <td>black</td>\n",
       "      <td>Melon</td>\n",
       "      <td>172</td>\n",
       "      <td>9.5</td>\n",
       "      <td>TX</td>\n",
       "    </tr>\n",
       "    <tr>\n",
       "      <th>Cornelia</th>\n",
       "      <td>69</td>\n",
       "      <td>red</td>\n",
       "      <td>Beans</td>\n",
       "      <td>150</td>\n",
       "      <td>2.2</td>\n",
       "      <td>TX</td>\n",
       "    </tr>\n",
       "  </tbody>\n",
       "</table>\n",
       "</div>"
      ],
      "text/plain": [
       "           age  color    food  height  score state\n",
       "Jane        30   blue   Steak     165    4.6    NY\n",
       "Nick         2  green    Lamb      70    8.3    TX\n",
       "Aaron       12    red   Mango     120    9.0    FL\n",
       "Penelope     4  white   Apple      80    3.3    AL\n",
       "Dean        32   gray  Cheese     180    1.8    AK\n",
       "Christina   33  black   Melon     172    9.5    TX\n",
       "Cornelia    69    red   Beans     150    2.2    TX"
      ]
     },
     "execution_count": 29,
     "metadata": {},
     "output_type": "execute_result"
    }
   ],
   "source": [
    "ex_df = pd.DataFrame({'age':[30, 2, 12, 4, 32, 33, 69],\n",
    "                   'color':['blue', 'green', 'red', 'white', 'gray', 'black', 'red'],\n",
    "                   'food':['Steak', 'Lamb', 'Mango', 'Apple', 'Cheese', 'Melon', 'Beans'],\n",
    "                   'height':[165, 70, 120, 80, 180, 172, 150],\n",
    "                   'score':[4.6, 8.3, 9.0, 3.3, 1.8, 9.5, 2.2],\n",
    "                   'state':['NY', 'TX', 'FL', 'AL', 'AK', 'TX', 'TX']\n",
    "                   },\n",
    "                  index=['Jane', 'Nick', 'Aaron', 'Penelope', 'Dean', 'Christina', 'Cornelia'])\n",
    "ex_df"
   ]
  },
  {
   "cell_type": "code",
   "execution_count": 30,
   "id": "3f0dba65",
   "metadata": {},
   "outputs": [
    {
     "data": {
      "text/plain": [
       "age          30\n",
       "color      blue\n",
       "food      Steak\n",
       "height      165\n",
       "score       4.6\n",
       "state        NY\n",
       "Name: Jane, dtype: object"
      ]
     },
     "execution_count": 30,
     "metadata": {},
     "output_type": "execute_result"
    }
   ],
   "source": [
    "ex_df.loc[\"Jane\"]\n",
    "\n",
    "# now try retrieving \"Aaron\""
   ]
  },
  {
   "cell_type": "code",
   "execution_count": 31,
   "id": "aaf9eead",
   "metadata": {},
   "outputs": [
    {
     "data": {
      "text/plain": [
       "age          30\n",
       "color      blue\n",
       "food      Steak\n",
       "height      165\n",
       "score       4.6\n",
       "state        NY\n",
       "Name: Jane, dtype: object"
      ]
     },
     "execution_count": 31,
     "metadata": {},
     "output_type": "execute_result"
    }
   ],
   "source": [
    "ex_df.iloc[0]\n",
    "\n",
    "# now try retrieving \"Aaron\" using iloc"
   ]
  },
  {
   "cell_type": "code",
   "execution_count": 32,
   "id": "0e074e31",
   "metadata": {},
   "outputs": [
    {
     "data": {
      "text/plain": [
       "Jane         30\n",
       "Nick          2\n",
       "Aaron        12\n",
       "Penelope      4\n",
       "Dean         32\n",
       "Christina    33\n",
       "Cornelia     69\n",
       "Name: age, dtype: int64"
      ]
     },
     "execution_count": 32,
     "metadata": {},
     "output_type": "execute_result"
    }
   ],
   "source": [
    "ex_df[\"age\"]\n",
    "\n",
    "# now try retrieving the \"state\" column"
   ]
  },
  {
   "cell_type": "markdown",
   "id": "280d5bad",
   "metadata": {},
   "source": [
    "Back in our main example, `economics_data` will have the same `iloc` and `loc` uses. "
   ]
  },
  {
   "cell_type": "markdown",
   "id": "784e2f34",
   "metadata": {},
   "source": [
    "### Statistics in Dataframes\n",
    "Dataframes have built-in functions that allow to generate statistics like mean, standard deviation, max, min. We can use the `describe` function to generate these stats.  \n",
    "\n",
    "**Note:** Describe only works with `numeric` data like integers and floats. Ensure that the data being \"described\" belong to these types. "
   ]
  },
  {
   "cell_type": "code",
   "execution_count": 33,
   "id": "e930a82b",
   "metadata": {},
   "outputs": [
    {
     "data": {
      "text/html": [
       "<div>\n",
       "<style scoped>\n",
       "    .dataframe tbody tr th:only-of-type {\n",
       "        vertical-align: middle;\n",
       "    }\n",
       "\n",
       "    .dataframe tbody tr th {\n",
       "        vertical-align: top;\n",
       "    }\n",
       "\n",
       "    .dataframe thead th {\n",
       "        text-align: right;\n",
       "    }\n",
       "</style>\n",
       "<table border=\"1\" class=\"dataframe\">\n",
       "  <thead>\n",
       "    <tr style=\"text-align: right;\">\n",
       "      <th></th>\n",
       "      <th>GRDP(PHP, thousands)</th>\n",
       "      <th>Agriculture(PHP, thousands)</th>\n",
       "      <th>Industry(PHP, thousands)</th>\n",
       "      <th>Services(PHP, thousands)</th>\n",
       "      <th>GRDP per capita(PHP)</th>\n",
       "    </tr>\n",
       "  </thead>\n",
       "  <tbody>\n",
       "    <tr>\n",
       "      <th>count</th>\n",
       "      <td>1.700000e+01</td>\n",
       "      <td>1.700000e+01</td>\n",
       "      <td>1.700000e+01</td>\n",
       "      <td>1.700000e+01</td>\n",
       "      <td>17.000000</td>\n",
       "    </tr>\n",
       "    <tr>\n",
       "      <th>mean</th>\n",
       "      <td>1.148025e+09</td>\n",
       "      <td>1.013065e+08</td>\n",
       "      <td>3.463118e+08</td>\n",
       "      <td>7.004063e+08</td>\n",
       "      <td>150691.176471</td>\n",
       "    </tr>\n",
       "    <tr>\n",
       "      <th>std</th>\n",
       "      <td>1.505672e+09</td>\n",
       "      <td>5.898100e+07</td>\n",
       "      <td>4.261595e+08</td>\n",
       "      <td>1.175231e+09</td>\n",
       "      <td>88974.536284</td>\n",
       "    </tr>\n",
       "    <tr>\n",
       "      <th>min</th>\n",
       "      <td>2.545236e+08</td>\n",
       "      <td>4.425970e+05</td>\n",
       "      <td>6.319110e+07</td>\n",
       "      <td>1.036431e+08</td>\n",
       "      <td>55151.000000</td>\n",
       "    </tr>\n",
       "    <tr>\n",
       "      <th>25%</th>\n",
       "      <td>3.972066e+08</td>\n",
       "      <td>6.411648e+07</td>\n",
       "      <td>1.104676e+08</td>\n",
       "      <td>2.120438e+08</td>\n",
       "      <td>108561.000000</td>\n",
       "    </tr>\n",
       "    <tr>\n",
       "      <th>50%</th>\n",
       "      <td>5.603149e+08</td>\n",
       "      <td>8.768943e+07</td>\n",
       "      <td>1.922183e+08</td>\n",
       "      <td>2.719653e+08</td>\n",
       "      <td>120240.000000</td>\n",
       "    </tr>\n",
       "    <tr>\n",
       "      <th>75%</th>\n",
       "      <td>9.220950e+08</td>\n",
       "      <td>1.442567e+08</td>\n",
       "      <td>2.334524e+08</td>\n",
       "      <td>5.776424e+08</td>\n",
       "      <td>177998.000000</td>\n",
       "    </tr>\n",
       "    <tr>\n",
       "      <th>max</th>\n",
       "      <td>6.309291e+09</td>\n",
       "      <td>2.319954e+08</td>\n",
       "      <td>1.445359e+09</td>\n",
       "      <td>5.078723e+09</td>\n",
       "      <td>462779.000000</td>\n",
       "    </tr>\n",
       "  </tbody>\n",
       "</table>\n",
       "</div>"
      ],
      "text/plain": [
       "       GRDP(PHP, thousands)  Agriculture(PHP, thousands)  \\\n",
       "count          1.700000e+01                 1.700000e+01   \n",
       "mean           1.148025e+09                 1.013065e+08   \n",
       "std            1.505672e+09                 5.898100e+07   \n",
       "min            2.545236e+08                 4.425970e+05   \n",
       "25%            3.972066e+08                 6.411648e+07   \n",
       "50%            5.603149e+08                 8.768943e+07   \n",
       "75%            9.220950e+08                 1.442567e+08   \n",
       "max            6.309291e+09                 2.319954e+08   \n",
       "\n",
       "       Industry(PHP, thousands)  Services(PHP, thousands)  \\\n",
       "count              1.700000e+01              1.700000e+01   \n",
       "mean               3.463118e+08              7.004063e+08   \n",
       "std                4.261595e+08              1.175231e+09   \n",
       "min                6.319110e+07              1.036431e+08   \n",
       "25%                1.104676e+08              2.120438e+08   \n",
       "50%                1.922183e+08              2.719653e+08   \n",
       "75%                2.334524e+08              5.776424e+08   \n",
       "max                1.445359e+09              5.078723e+09   \n",
       "\n",
       "       GRDP per capita(PHP)  \n",
       "count             17.000000  \n",
       "mean          150691.176471  \n",
       "std            88974.536284  \n",
       "min            55151.000000  \n",
       "25%           108561.000000  \n",
       "50%           120240.000000  \n",
       "75%           177998.000000  \n",
       "max           462779.000000  "
      ]
     },
     "execution_count": 33,
     "metadata": {},
     "output_type": "execute_result"
    }
   ],
   "source": [
    "economics_data.describe()"
   ]
  },
  {
   "cell_type": "code",
   "execution_count": 34,
   "id": "1390bb8b",
   "metadata": {},
   "outputs": [
    {
     "data": {
      "text/plain": [
       "count    1.700000e+01\n",
       "mean     1.148025e+09\n",
       "std      1.505672e+09\n",
       "min      2.545236e+08\n",
       "25%      3.972066e+08\n",
       "50%      5.603149e+08\n",
       "75%      9.220950e+08\n",
       "max      6.309291e+09\n",
       "Name: GRDP(PHP, thousands), dtype: float64"
      ]
     },
     "execution_count": 34,
     "metadata": {},
     "output_type": "execute_result"
    }
   ],
   "source": [
    "# if we want only a specific column\n",
    "economics_data[\"GRDP(PHP, thousands)\"].describe()"
   ]
  },
  {
   "cell_type": "code",
   "execution_count": 35,
   "id": "d27b80aa",
   "metadata": {},
   "outputs": [],
   "source": [
    "# describe the Agriculture column"
   ]
  },
  {
   "cell_type": "markdown",
   "id": "b5c4efc6",
   "metadata": {},
   "source": [
    "## Visualizing Data\n",
    "To make our data more \"palatable\" to users, we may want to visualize them over a chart. We will be using `matplotlib` to visualize the economics data.\n",
    "\n",
    "You can refer to the following [matplotlib gallery](https://matplotlib.org/stable/gallery/) to see example visualizations.\n",
    "\n",
    "### Bar Graph\n",
    "\n",
    "As an initial graph, we will be creating a bar graph. Let us use a sample code from matplotlib. We will be using fruits as an example."
   ]
  },
  {
   "cell_type": "code",
   "execution_count": 36,
   "id": "adfedff8",
   "metadata": {},
   "outputs": [
    {
     "data": {
      "image/png": "[encoded data removed]",
      "text/plain": [
       "<Figure size 640x480 with 1 Axes>"
      ]
     },
     "metadata": {},
     "output_type": "display_data"
    }
   ],
   "source": [
    "fig, ax = plt.subplots()\n",
    "\n",
    "fruits = ['apple', 'blueberry', 'cherry', 'orange']\n",
    "counts = [40, 100, 30, 55]\n",
    "bar_labels = ['red', 'blue', '_red', 'orange']\n",
    "bar_colors = ['tab:red', 'tab:blue', 'tab:red', 'tab:orange']\n",
    "\n",
    "ax.bar(fruits, counts, label=bar_labels, color=bar_colors)\n",
    "\n",
    "ax.set_ylabel('fruit supply')\n",
    "ax.set_title('Fruit supply by kind and color')\n",
    "ax.legend(title='Fruit color')\n",
    "\n",
    "plt.show()"
   ]
  },
  {
   "cell_type": "code",
   "execution_count": 37,
   "id": "d7c3df39",
   "metadata": {},
   "outputs": [
    {
     "data": {
      "image/png": "[encoded data removed]",
      "text/plain": [
       "<Figure size 640x480 with 1 Axes>"
      ]
     },
     "metadata": {},
     "output_type": "display_data"
    }
   ],
   "source": [
    "fig, ax = plt.subplots()\n",
    "regions_data = economics_data[\"Region\"]\n",
    "regions_label = regions_data.to_list()\n",
    "agriculture_data = economics_data[\"Agriculture(PHP, thousands)\"]\n",
    "agriculture_label = agriculture_data.to_list()\n",
    "ax.bar(regions_label, agriculture_label, label=regions_label)\n",
    "ax.set_ylabel('Agriculture(PHP, thousands)')\n",
    "ax.set_title('Agriculture')\n",
    "# fig.autofmt_xdate() # remove the comment of this line to fix the x-axis labels\n",
    "plt.show()"
   ]
  },
  {
   "cell_type": "code",
   "execution_count": 38,
   "id": "f3cc2241",
   "metadata": {},
   "outputs": [],
   "source": [
    "# create a bar graph using the service column\n",
    "\n"
   ]
  },
  {
   "cell_type": "markdown",
   "id": "b51c4394",
   "metadata": {},
   "source": [
    "### Stacked Bar Graph\n",
    "\n",
    "As an initial graph, we will be creating a stacked bar graph. \n",
    "\n",
    "We will be displaying the these different sectors into this graph to identify which industry contributes most to our economy."
   ]
  },
  {
   "cell_type": "code",
   "execution_count": 39,
   "id": "5711ef67",
   "metadata": {},
   "outputs": [
    {
     "data": {
      "image/png": "[encoded data removed]",
      "text/plain": [
       "<Figure size 640x480 with 1 Axes>"
      ]
     },
     "metadata": {},
     "output_type": "display_data"
    }
   ],
   "source": [
    "regions_data = economics_data[\"Region\"]\n",
    "regions_label = regions_data.to_list()\n",
    "agriculture_data = economics_data[\"Agriculture(PHP, thousands)\"]\n",
    "agriculture_label = agriculture_data.to_list()\n",
    "services_data = economics_data[\"Services(PHP, thousands)\"]\n",
    "services_label = services_data.to_list()\n",
    "industry_data = economics_data[\"Industry(PHP, thousands)\"]\n",
    "industry_label = industry_data.to_list()\n",
    "weight_counts = {\n",
    "    \"Agriculture\": agriculture_data,\n",
    "    \"Services\": services_data,\n",
    "    \"Industry\": industry_data\n",
    "}\n",
    "width = 0.5\n",
    "\n",
    "fig, ax = plt.subplots()\n",
    "b_industry = list(np.add(agriculture_label, services_label))\n",
    "plt.bar(regions_label, agriculture_label, label=\"Agricutlure\")\n",
    "plt.bar(regions_label, services_label, bottom=agriculture_label, label=\"Services\")\n",
    "plt.bar(regions_label, industry_label, bottom=b_industry, label=\"Industry\")\n",
    "\n",
    "ax.set_title(\"Distribution of GRDP per sector\")\n",
    "# fig.autofmt_xdate() # remove the comment of this line to fix the x-axis labels\n",
    "ax.legend(loc=\"upper right\")\n",
    "\n",
    "plt.show()"
   ]
  },
  {
   "cell_type": "code",
   "execution_count": null,
   "id": "da08bfa9",
   "metadata": {},
   "outputs": [],
   "source": []
  }
 ],
 "metadata": {
  "kernelspec": {
   "display_name": "Python 3 (ipykernel)",
   "language": "python",
   "name": "python3"
  },
  "language_info": {
   "codemirror_mode": {
    "name": "ipython",
    "version": 3
   },
   "file_extension": ".py",
   "mimetype": "text/x-python",
   "name": "python",
   "nbconvert_exporter": "python",
   "pygments_lexer": "ipython3",
   "version": "3.11.4"
  }
 },
 "nbformat": 4,
 "nbformat_minor": 5
}
